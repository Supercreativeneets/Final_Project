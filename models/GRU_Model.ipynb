{
 "cells": [
  {
   "cell_type": "code",
   "execution_count": 1,
   "metadata": {
    "id": "f2_JC1G0ccPI"
   },
   "outputs": [],
   "source": [
    "import pandas as pd\n",
    "import numpy as np\n",
    "import tensorflow as tf\n",
    "from tensorflow import keras\n",
    "from numpy import split\n",
    "from numpy import concatenate\n",
    "from math import sqrt\n",
    "from matplotlib import pyplot as plt\n",
    "from sklearn.metrics import mean_squared_error, mean_absolute_error, r2_score\n",
    "from keras.models import Sequential\n",
    "from keras.layers import Dense\n",
    "from keras.layers import Flatten\n",
    "from keras.layers import GRU\n",
    "from keras.layers import Dropout\n",
    "from keras.optimizers import Adam\n",
    "from keras import callbacks\n",
    "from keras.utils import plot_model"
   ]
  },
  {
   "cell_type": "code",
   "execution_count": 2,
   "metadata": {
    "id": "2OX2g-nxG6DK"
   },
   "outputs": [],
   "source": [
    "# Load the new file\n",
    "dataset = pd.read_csv('/content/drive/MyDrive/Final Air Pollution/Final_AP.csv')"
   ]
  },
  {
   "cell_type": "markdown",
   "metadata": {
    "id": "XLLN9CW1evXb"
   },
   "source": [
    "The data starts from 01/03/2013 and ends on 28/02/2017.We will use the first three years of data for training predictive models and the final year for evaluating models. Hence, number of training days is 01/03/2013 - 29/02/2016, equals to 1096 days, i.e. 26304 hr. Number of test days is 01/03/2016 - 28/02/2017, 365 days, equals to 8760 hr."
   ]
  },
  {
   "cell_type": "code",
   "execution_count": 3,
   "metadata": {
    "id": "6qntXEd5dsqs"
   },
   "outputs": [],
   "source": [
    "from sklearn.preprocessing import MinMaxScaler\n",
    "\n",
    "scaler = MinMaxScaler(feature_range=(0,1))\n",
    "\n",
    "# Split and scale the dataset into train/test sets\n",
    "\n",
    "def Split_dataset(data):\n",
    "    # Split into train_data (1096 days X 24 hr) and val_data (219 days X 24 hr), test_data (146 days X 24 hr )\n",
    "    train_data, val_data, test_data = data[0:-8760], data[-8760:-3504], data[-3504:]\n",
    "\n",
    "    # scale the data using min max scaling on training data\n",
    "    train = scaler.fit_transform(train_data)\n",
    "    val = scaler.transform(val_data)\n",
    "    test = scaler.transform(test_data)\n",
    "\n",
    "    # Restructure into windows of 24hrs\n",
    "    train = np.array(np.split(train, len(train) / 24))\n",
    "    val = np.array(np.split(val, len(val) / 24))\n",
    "    test = np.array(np.split(test, len(test) / 24))\n",
    "\n",
    "    return train, val, test\n"
   ]
  },
  {
   "cell_type": "code",
   "execution_count": 4,
   "metadata": {
    "id": "NbRgvr4YKsni"
   },
   "outputs": [],
   "source": [
    "# Split into train and test\n",
    "train, val, test = Split_dataset(dataset.values)"
   ]
  },
  {
   "cell_type": "code",
   "execution_count": 5,
   "metadata": {
    "colab": {
     "base_uri": "https://localhost:8080/"
    },
    "id": "UUUN2DB1K4qJ",
    "outputId": "95b53f66-3bf3-4dbf-a957-a44234a36128"
   },
   "outputs": [
    {
     "name": "stdout",
     "output_type": "stream",
     "text": [
      "(1096, 24, 22)\n",
      "(219, 24, 22)\n",
      "(146, 24, 22)\n"
     ]
    }
   ],
   "source": [
    "print(train.shape)\n",
    "print(val.shape)\n",
    "print(test.shape)"
   ]
  },
  {
   "cell_type": "markdown",
   "metadata": {
    "id": "QogaT9opfEXX"
   },
   "source": [
    "We want to prepare the training data such that we iterate over the time steps and divide the data into overlapping windows; each iteration moves along 24 time steps (24hrs) and predicts the subsequent step (1hr).\n",
    "\n",
    "*   Input Output\n",
    "*   [h01, h02, h03, h04, . . . . , h21, h22, h23, h24], [h25]\n",
    "*   [h02, h03, h04, h05, . . . . ,h22, h23, h24, h25], [h26]\n",
    "\n",
    "\n",
    "\n",
    "\n",
    "\n"
   ]
  },
  {
   "cell_type": "code",
   "execution_count": 6,
   "metadata": {
    "id": "iNNBlWt8e2l7"
   },
   "outputs": [],
   "source": [
    "# Convert series to supervised inputs and outputs\n",
    "\n",
    "def to_supervised(train, n_input=24, n_out=1):\n",
    "    # flatten data\n",
    "    data = train.reshape((train.shape[0] * train.shape[1], train.shape[2]))\n",
    "    X, y = list(), list()\n",
    "    in_start = 0\n",
    "\n",
    "    # step over the entire history one time step at a time\n",
    "    for _ in range(len(data)):\n",
    "        # define the end of the input sequence\n",
    "        in_end = in_start + n_input\n",
    "        out_end = in_end + n_out\n",
    "\n",
    "        # ensure we have enough data for this instance\n",
    "        if out_end <= len(data):\n",
    "            X.append(data[in_start:in_end, :])\n",
    "            y.append(data[in_end:out_end, 0])\n",
    "\n",
    "        # move along one time step\n",
    "        in_start += 1\n",
    "\n",
    "    return np.array(X), np.array(y)\n"
   ]
  },
  {
   "cell_type": "markdown",
   "metadata": {
    "id": "SsY--04fWens"
   },
   "source": [
    "Now let’s create a Baseline Metrics or else we may end up thinking our model works great when in fact it is doing worse than basic models. The simplest approach is to assume that predicted value is the last value of the sequence. This is called naive forecasting, and it is sometimes surprisingly difficult to outperform."
   ]
  },
  {
   "cell_type": "code",
   "execution_count": 7,
   "metadata": {
    "colab": {
     "base_uri": "https://localhost:8080/"
    },
    "id": "GNCi1VIwhxBi",
    "outputId": "f5868cec-beef-49ff-d1c1-20968287e4a1"
   },
   "outputs": [
    {
     "name": "stderr",
     "output_type": "stream",
     "text": [
      "WARNING:tensorflow:Layer gru will not use cuDNN kernels since it doesn't meet the criteria. It will use a generic GPU kernel as fallback when running on GPU.\n"
     ]
    }
   ],
   "source": [
    "# Build the model\n",
    "\n",
    "# Define parameters\n",
    "n_epochs, n_batch = 200, 48\n",
    "\n",
    "# Prepare training data\n",
    "train_X, train_y = to_supervised(train, n_input=24)\n",
    "val_X, val_y = to_supervised(val, n_input =24)\n",
    "\n",
    "# Define the input parameters\n",
    "tf.random.set_seed(7)\n",
    "np.random.seed(7)\n",
    "n_input, n_features, n_outputs = train_X.shape[1], train_X.shape[2], train_y.shape[1]\n",
    "\n",
    "# Define the model\n",
    "model = Sequential()\n",
    "model.add(GRU(200, return_sequences=False, activation='relu', input_shape=(n_input, n_features)))\n",
    "model.add(Dropout(0.1))\n",
    "model.add(Dense(100, activation='relu'))\n",
    "model.add(Dropout(0.1))\n",
    "model.add(Dense(50, activation='relu'))\n",
    "model.add(Dropout(0.1))\n",
    "model.add(Dense(n_outputs))\n",
    "\n",
    "# Compile the model\n",
    "model.compile(loss = 'mse' , optimizer= Adam(learning_rate = 0.0005))\n",
    "\n",
    "es_callback = callbacks.EarlyStopping(monitor=\"val_loss\", min_delta=1e-4,\n",
    "              patience=50, restore_best_weights=True)\n"
   ]
  },
  {
   "cell_type": "code",
   "execution_count": 8,
   "metadata": {
    "colab": {
     "base_uri": "https://localhost:8080/"
    },
    "id": "D1UHF5MnrjK0",
    "outputId": "d77cafaa-c266-4b32-a973-8d8bce4b74e7"
   },
   "outputs": [
    {
     "name": "stdout",
     "output_type": "stream",
     "text": [
      "(26280, 24, 22) (26280, 1)\n"
     ]
    }
   ],
   "source": [
    "print(train_X.shape, train_y.shape)"
   ]
  },
  {
   "cell_type": "code",
   "execution_count": 9,
   "metadata": {
    "colab": {
     "base_uri": "https://localhost:8080/"
    },
    "id": "PJpiC2Vwx88c",
    "outputId": "71251926-ce89-4904-eb65-750d7ee1a600"
   },
   "outputs": [
    {
     "name": "stdout",
     "output_type": "stream",
     "text": [
      "Model: \"sequential\"\n",
      "_________________________________________________________________\n",
      " Layer (type)                Output Shape              Param #   \n",
      "=================================================================\n",
      " gru (GRU)                   (None, 200)               134400    \n",
      "                                                                 \n",
      " dropout (Dropout)           (None, 200)               0         \n",
      "                                                                 \n",
      " dense (Dense)               (None, 100)               20100     \n",
      "                                                                 \n",
      " dropout_1 (Dropout)         (None, 100)               0         \n",
      "                                                                 \n",
      " dense_1 (Dense)             (None, 50)                5050      \n",
      "                                                                 \n",
      " dropout_2 (Dropout)         (None, 50)                0         \n",
      "                                                                 \n",
      " dense_2 (Dense)             (None, 1)                 51        \n",
      "                                                                 \n",
      "=================================================================\n",
      "Total params: 159601 (623.44 KB)\n",
      "Trainable params: 159601 (623.44 KB)\n",
      "Non-trainable params: 0 (0.00 Byte)\n",
      "_________________________________________________________________\n",
      "None\n"
     ]
    }
   ],
   "source": [
    "print(model.summary())"
   ]
  },
  {
   "cell_type": "code",
   "execution_count": 10,
   "metadata": {
    "colab": {
     "base_uri": "https://localhost:8080/",
     "height": 865
    },
    "id": "FiYuJKFgxijK",
    "outputId": "d8f607ab-543d-4f6c-986c-9854824a28eb"
   },
   "outputs": [
    {
     "data": {
      "image/png": "[encoded data removed]",
      "text/plain": [
       "<IPython.core.display.Image object>"
      ]
     },
     "execution_count": 10,
     "metadata": {},
     "output_type": "execute_result"
    }
   ],
   "source": [
    "plot_model(model, to_file=\"GRU_model.png\", show_shapes=True, show_layer_names=True)"
   ]
  },
  {
   "cell_type": "code",
   "execution_count": 11,
   "metadata": {
    "colab": {
     "base_uri": "https://localhost:8080/"
    },
    "id": "_ZKRjRm5yCdn",
    "outputId": "66fe79b6-ba20-4c04-8aa9-b65a3c37491e"
   },
   "outputs": [
    {
     "name": "stdout",
     "output_type": "stream",
     "text": [
      "Epoch 1/200\n",
      "548/548 [==============================] - 29s 44ms/step - loss: 0.0014 - val_loss: 5.4143e-04\n",
      "Epoch 2/200\n",
      "548/548 [==============================] - 22s 40ms/step - loss: 7.4246e-04 - val_loss: 3.7259e-04\n",
      "Epoch 3/200\n",
      "548/548 [==============================] - 24s 45ms/step - loss: 6.4018e-04 - val_loss: 3.1507e-04\n",
      "Epoch 4/200\n",
      "548/548 [==============================] - 24s 44ms/step - loss: 5.7918e-04 - val_loss: 3.9057e-04\n",
      "Epoch 5/200\n",
      "548/548 [==============================] - 24s 44ms/step - loss: 5.3320e-04 - val_loss: 2.8238e-04\n",
      "Epoch 6/200\n",
      "548/548 [==============================] - 22s 40ms/step - loss: 5.2386e-04 - val_loss: 2.6495e-04\n",
      "Epoch 7/200\n",
      "548/548 [==============================] - 23s 42ms/step - loss: 5.0621e-04 - val_loss: 2.7351e-04\n",
      "Epoch 8/200\n",
      "548/548 [==============================] - 24s 43ms/step - loss: 4.7722e-04 - val_loss: 2.6277e-04\n",
      "Epoch 9/200\n",
      "548/548 [==============================] - 24s 43ms/step - loss: 4.7950e-04 - val_loss: 3.1742e-04\n",
      "Epoch 10/200\n",
      "548/548 [==============================] - 22s 40ms/step - loss: 4.7372e-04 - val_loss: 2.7093e-04\n",
      "Epoch 11/200\n",
      "548/548 [==============================] - 24s 44ms/step - loss: 4.6022e-04 - val_loss: 2.3994e-04\n",
      "Epoch 12/200\n",
      "548/548 [==============================] - 24s 44ms/step - loss: 4.6187e-04 - val_loss: 3.0567e-04\n",
      "Epoch 13/200\n",
      "548/548 [==============================] - 23s 43ms/step - loss: 4.4502e-04 - val_loss: 2.5830e-04\n",
      "Epoch 14/200\n",
      "548/548 [==============================] - 22s 41ms/step - loss: 4.4901e-04 - val_loss: 2.3139e-04\n",
      "Epoch 15/200\n",
      "548/548 [==============================] - 25s 45ms/step - loss: 4.4751e-04 - val_loss: 2.5843e-04\n",
      "Epoch 16/200\n",
      "548/548 [==============================] - 25s 45ms/step - loss: 4.3159e-04 - val_loss: 2.7989e-04\n",
      "Epoch 17/200\n",
      "548/548 [==============================] - 24s 44ms/step - loss: 4.3061e-04 - val_loss: 2.6898e-04\n",
      "Epoch 18/200\n",
      "548/548 [==============================] - 22s 40ms/step - loss: 4.2513e-04 - val_loss: 2.7692e-04\n",
      "Epoch 19/200\n",
      "548/548 [==============================] - 23s 42ms/step - loss: 4.2014e-04 - val_loss: 2.5863e-04\n",
      "Epoch 20/200\n",
      "548/548 [==============================] - 24s 44ms/step - loss: 4.0822e-04 - val_loss: 2.5770e-04\n",
      "Epoch 21/200\n",
      "548/548 [==============================] - 24s 44ms/step - loss: 4.1949e-04 - val_loss: 2.7849e-04\n",
      "Epoch 22/200\n",
      "548/548 [==============================] - 22s 40ms/step - loss: 4.0540e-04 - val_loss: 3.1263e-04\n",
      "Epoch 23/200\n",
      "548/548 [==============================] - 24s 43ms/step - loss: 4.0080e-04 - val_loss: 2.9452e-04\n",
      "Epoch 24/200\n",
      "548/548 [==============================] - 25s 45ms/step - loss: 4.1145e-04 - val_loss: 3.3042e-04\n",
      "Epoch 25/200\n",
      "548/548 [==============================] - 24s 43ms/step - loss: 3.9766e-04 - val_loss: 2.5795e-04\n",
      "Epoch 26/200\n",
      "548/548 [==============================] - 23s 41ms/step - loss: 4.0593e-04 - val_loss: 2.5248e-04\n",
      "Epoch 27/200\n",
      "548/548 [==============================] - 24s 44ms/step - loss: 3.8178e-04 - val_loss: 2.7159e-04\n",
      "Epoch 28/200\n",
      "548/548 [==============================] - 25s 45ms/step - loss: 3.9010e-04 - val_loss: 2.7439e-04\n",
      "Epoch 29/200\n",
      "548/548 [==============================] - 24s 44ms/step - loss: 3.8773e-04 - val_loss: 2.3200e-04\n",
      "Epoch 30/200\n",
      "548/548 [==============================] - 22s 40ms/step - loss: 3.7798e-04 - val_loss: 2.7371e-04\n",
      "Epoch 31/200\n",
      "548/548 [==============================] - 24s 44ms/step - loss: 3.7817e-04 - val_loss: 2.5924e-04\n",
      "Epoch 32/200\n",
      "548/548 [==============================] - 24s 45ms/step - loss: 3.7596e-04 - val_loss: 2.6902e-04\n",
      "Epoch 33/200\n",
      "548/548 [==============================] - 25s 45ms/step - loss: 3.6957e-04 - val_loss: 2.7075e-04\n",
      "Epoch 34/200\n",
      "548/548 [==============================] - 22s 41ms/step - loss: 3.6865e-04 - val_loss: 2.7231e-04\n",
      "Epoch 35/200\n",
      "548/548 [==============================] - 25s 45ms/step - loss: 3.8182e-04 - val_loss: 3.2040e-04\n",
      "Epoch 36/200\n",
      "548/548 [==============================] - 25s 45ms/step - loss: 3.6255e-04 - val_loss: 2.5360e-04\n",
      "Epoch 37/200\n",
      "548/548 [==============================] - 25s 45ms/step - loss: 3.5545e-04 - val_loss: 3.1407e-04\n",
      "Epoch 38/200\n",
      "548/548 [==============================] - 23s 42ms/step - loss: 3.6264e-04 - val_loss: 2.9993e-04\n",
      "Epoch 39/200\n",
      "548/548 [==============================] - 24s 43ms/step - loss: 3.6501e-04 - val_loss: 2.5821e-04\n",
      "Epoch 40/200\n",
      "548/548 [==============================] - 24s 44ms/step - loss: 3.5455e-04 - val_loss: 2.7398e-04\n",
      "Epoch 41/200\n",
      "548/548 [==============================] - 24s 44ms/step - loss: 3.5289e-04 - val_loss: 2.7445e-04\n",
      "Epoch 42/200\n",
      "548/548 [==============================] - 23s 43ms/step - loss: 3.5653e-04 - val_loss: 2.7266e-04\n",
      "Epoch 43/200\n",
      "548/548 [==============================] - 23s 42ms/step - loss: 3.4650e-04 - val_loss: 3.0207e-04\n",
      "Epoch 44/200\n",
      "548/548 [==============================] - 24s 44ms/step - loss: 3.4208e-04 - val_loss: 3.3786e-04\n",
      "Epoch 45/200\n",
      "548/548 [==============================] - 24s 44ms/step - loss: 3.4520e-04 - val_loss: 3.0163e-04\n",
      "Epoch 46/200\n",
      "548/548 [==============================] - 24s 44ms/step - loss: 3.4566e-04 - val_loss: 2.9378e-04\n",
      "Epoch 47/200\n",
      "548/548 [==============================] - 23s 42ms/step - loss: 3.3420e-04 - val_loss: 2.6052e-04\n",
      "Epoch 48/200\n",
      "548/548 [==============================] - 24s 45ms/step - loss: 3.3952e-04 - val_loss: 2.8984e-04\n",
      "Epoch 49/200\n",
      "548/548 [==============================] - 24s 45ms/step - loss: 3.3880e-04 - val_loss: 3.1747e-04\n",
      "Epoch 50/200\n",
      "548/548 [==============================] - 24s 43ms/step - loss: 3.3977e-04 - val_loss: 2.5584e-04\n",
      "Epoch 51/200\n",
      "548/548 [==============================] - 23s 42ms/step - loss: 3.3234e-04 - val_loss: 3.2096e-04\n",
      "Epoch 52/200\n",
      "548/548 [==============================] - 24s 44ms/step - loss: 3.3313e-04 - val_loss: 2.7953e-04\n",
      "Epoch 53/200\n",
      "548/548 [==============================] - 24s 44ms/step - loss: 3.3725e-04 - val_loss: 2.9469e-04\n",
      "Epoch 54/200\n",
      "548/548 [==============================] - 24s 43ms/step - loss: 3.2132e-04 - val_loss: 2.7506e-04\n",
      "Epoch 55/200\n",
      "548/548 [==============================] - 23s 41ms/step - loss: 3.2495e-04 - val_loss: 3.1436e-04\n",
      "Epoch 56/200\n",
      "548/548 [==============================] - 24s 44ms/step - loss: 3.2813e-04 - val_loss: 2.6752e-04\n"
     ]
    }
   ],
   "source": [
    "# Train the model\n",
    "history = model.fit(train_X, train_y, epochs=n_epochs, batch_size=n_batch, verbose=1, validation_data = (val_X,val_y),callbacks=[es_callback])"
   ]
  },
  {
   "cell_type": "code",
   "execution_count": 12,
   "metadata": {
    "colab": {
     "base_uri": "https://localhost:8080/"
    },
    "id": "8qAAUTp2-2n3",
    "outputId": "b9981d2d-d000-40db-c8c4-c64a82811e54"
   },
   "outputs": [
    {
     "name": "stderr",
     "output_type": "stream",
     "text": [
      "/usr/local/lib/python3.10/dist-packages/keras/src/engine/training.py:3103: UserWarning: You are saving your model as an HDF5 file via `model.save()`. This file format is considered legacy. We recommend using instead the native Keras format, e.g. `model.save('my_model.keras')`.\n",
      "  saving_api.save_model(\n"
     ]
    }
   ],
   "source": [
    "np.save(\"/content/drive/MyDrive/history_GRU48.npy\", history.history)\n",
    "model.save('/content/drive/MyDrive/GRU48.h5')"
   ]
  },
  {
   "cell_type": "code",
   "execution_count": 13,
   "metadata": {
    "colab": {
     "base_uri": "https://localhost:8080/",
     "height": 472
    },
    "id": "kXEJsO_Malgs",
    "outputId": "165b98a1-38ce-4530-92ba-9b515d40c9da"
   },
   "outputs": [
    {
     "data": {
      "image/png": "[encoded data removed]",
      "text/plain": [
       "<Figure size 640x480 with 1 Axes>"
      ]
     },
     "metadata": {},
     "output_type": "display_data"
    }
   ],
   "source": [
    "plt.plot(history.history['loss'], label='train')  # plotting train loss\n",
    "plt.plot(history.history['val_loss'], label='val')  # plotting validation loss\n",
    "\n",
    "plt.title('model loss')\n",
    "plt.ylabel('loss')\n",
    "plt.xlabel('epoch')\n",
    "plt.legend(['train', 'val'], loc='upper left')\n",
    "plt.show()"
   ]
  },
  {
   "cell_type": "code",
   "execution_count": 15,
   "metadata": {
    "colab": {
     "base_uri": "https://localhost:8080/"
    },
    "id": "IjNO56ow25J7",
    "outputId": "9bc7ded6-bc7c-49ee-d02f-d9a34076101a"
   },
   "outputs": [
    {
     "name": "stdout",
     "output_type": "stream",
     "text": [
      "109/109 [==============================] - 1s 7ms/step\n",
      "Test RMSE: 18.568\n",
      "Test MAE: 10.878\n",
      "Test R2: 0.969\n"
     ]
    }
   ],
   "source": [
    "# shape input for model\n",
    "test_X, test_y = to_supervised(test, n_input =24)\n",
    "\n",
    "# make forecast\n",
    "yhat = model.predict(test_X)\n",
    "\n",
    "# actual observation\n",
    "test_y = test_y.reshape(-1,1)\n",
    "\n",
    "# reshape input for inverse transform\n",
    "input_X = test_X.reshape((test_X.shape[0], test_X.shape[1]*test_X.shape[2]))\n",
    "\n",
    "# invert scaling for actual\n",
    "inv_test_y = concatenate((test_y, input_X[:, -21:]), axis=1)\n",
    "inv_test_y = scaler.inverse_transform(inv_test_y)\n",
    "inv_test_y= inv_test_y[:, 0]\n",
    "\n",
    "# invert scaling for predictions\n",
    "inv_yhat = concatenate((yhat, input_X[:, -21:]), axis=1)\n",
    "inv_yhat = scaler.inverse_transform(inv_yhat)\n",
    "inv_yhat = inv_yhat[:, 0]\n",
    "\n",
    "# estimate prediction error\n",
    "rmse = sqrt(mean_squared_error(inv_test_y,inv_yhat))\n",
    "print('Test RMSE: %.3f' % rmse)\n",
    "\n",
    "mae = mean_absolute_error(inv_test_y, inv_yhat)\n",
    "print('Test MAE: %.3f' % mae)\n",
    "\n",
    "R2=r2_score(inv_test_y, inv_yhat)\n",
    "print('Test R2: %.3f' % R2)"
   ]
  }
 ],
 "metadata": {
  "accelerator": "GPU",
  "colab": {
   "gpuType": "T4",
   "provenance": []
  },
  "kernelspec": {
   "display_name": "Python 3",
   "name": "python3"
  },
  "language_info": {
   "name": "python"
  }
 },
 "nbformat": 4,
 "nbformat_minor": 0
}
