{
 "cells": [
  {
   "cell_type": "code",
   "execution_count": 1,
   "metadata": {
    "id": "f2_JC1G0ccPI"
   },
   "outputs": [],
   "source": [
    "import pandas as pd\n",
    "import numpy as np\n",
    "import tensorflow as tf\n",
    "from tensorflow import keras\n",
    "from numpy import split\n",
    "from numpy import concatenate\n",
    "from math import sqrt\n",
    "from matplotlib import pyplot as plt\n",
    "from sklearn.metrics import mean_squared_error, mean_absolute_error, r2_score\n",
    "from keras.models import Sequential\n",
    "from keras.layers import Dense\n",
    "from keras.layers import Flatten\n",
    "from keras.layers import LSTM\n",
    "from keras.layers import Dropout\n",
    "from keras.optimizers import Adam\n",
    "from keras import callbacks\n",
    "from keras.utils import plot_model"
   ]
  },
  {
   "cell_type": "code",
   "execution_count": 2,
   "metadata": {
    "id": "2OX2g-nxG6DK"
   },
   "outputs": [],
   "source": [
    "# Load the new file\n",
    "dataset = pd.read_csv('/content/drive/MyDrive/Final Air Pollution/Final_AP.csv')"
   ]
  },
  {
   "cell_type": "markdown",
   "metadata": {
    "id": "XLLN9CW1evXb"
   },
   "source": [
    "The data starts from 01/03/2013 and ends on 28/02/2017.We will use the first three years of data for training predictive models and the final year for evaluating models. Hence, number of training days is 01/03/2013 - 29/02/2016, equals to 1096 days, i.e. 26304 hr. Number of test days is 01/03/2016 - 28/02/2017, 365 days, equals to 8760 hr."
   ]
  },
  {
   "cell_type": "code",
   "execution_count": 3,
   "metadata": {
    "id": "6qntXEd5dsqs"
   },
   "outputs": [],
   "source": [
    "from sklearn.preprocessing import MinMaxScaler\n",
    "\n",
    "scaler = MinMaxScaler(feature_range=(0,1))\n",
    "\n",
    "# Split and scale the dataset into train/test sets\n",
    "\n",
    "def Split_dataset(data):\n",
    "    # Split into train_data (1096 days X 24 hr) and val_data (219 days X 24 hr), test_data (146 days X 24 hr )\n",
    "    train_data, val_data, test_data = data[0:-8760], data[-8760:-3504], data[-3504:]\n",
    "\n",
    "    # scale the data using min max scaling on training data\n",
    "    train = scaler.fit_transform(train_data)\n",
    "    val = scaler.transform(val_data)\n",
    "    test = scaler.transform(test_data)\n",
    "\n",
    "    # Restructure into windows of 24hrs\n",
    "    train = np.array(np.split(train, len(train) / 24))\n",
    "    val = np.array(np.split(val, len(val) / 24))\n",
    "    test = np.array(np.split(test, len(test) / 24))\n",
    "\n",
    "    return train, val, test\n"
   ]
  },
  {
   "cell_type": "code",
   "execution_count": 4,
   "metadata": {
    "id": "NbRgvr4YKsni"
   },
   "outputs": [],
   "source": [
    "# Split into train and test\n",
    "train, val, test = Split_dataset(dataset.values)"
   ]
  },
  {
   "cell_type": "code",
   "execution_count": 5,
   "metadata": {
    "colab": {
     "base_uri": "https://localhost:8080/"
    },
    "id": "UUUN2DB1K4qJ",
    "outputId": "b2748ffc-fe4f-4ec9-b1c6-c4b80aee59ab"
   },
   "outputs": [
    {
     "name": "stdout",
     "output_type": "stream",
     "text": [
      "(1096, 24, 22)\n",
      "(219, 24, 22)\n",
      "(146, 24, 22)\n"
     ]
    }
   ],
   "source": [
    "print(train.shape)\n",
    "print(val.shape)\n",
    "print(test.shape)"
   ]
  },
  {
   "cell_type": "markdown",
   "metadata": {
    "id": "QogaT9opfEXX"
   },
   "source": [
    "We want to prepare the training data such that we iterate over the time steps and divide the data into overlapping windows; each iteration moves along 24 time steps (24hrs) and predicts the subsequent step (1hr).\n",
    "\n",
    "*   Input Output\n",
    "*   [h01, h02, h03, h04, . . . . , h21, h22, h23, h24], [h25]\n",
    "*   [h02, h03, h04, h05, . . . . ,h22, h23, h24, h25], [h26]\n",
    "\n",
    "\n",
    "\n",
    "\n",
    "\n"
   ]
  },
  {
   "cell_type": "code",
   "execution_count": 6,
   "metadata": {
    "id": "iNNBlWt8e2l7"
   },
   "outputs": [],
   "source": [
    "# Convert series to supervised inputs and outputs\n",
    "\n",
    "def to_supervised(train, n_input=24, n_out=1):\n",
    "    # flatten data\n",
    "    data = train.reshape((train.shape[0] * train.shape[1], train.shape[2]))\n",
    "    X, y = list(), list()\n",
    "    in_start = 0\n",
    "\n",
    "    # step over the entire history one time step at a time\n",
    "    for _ in range(len(data)):\n",
    "        # define the end of the input sequence\n",
    "        in_end = in_start + n_input\n",
    "        out_end = in_end + n_out\n",
    "\n",
    "        # ensure we have enough data for this instance\n",
    "        if out_end <= len(data):\n",
    "            X.append(data[in_start:in_end, :])\n",
    "            y.append(data[in_end:out_end, 0])\n",
    "\n",
    "        # move along one time step\n",
    "        in_start += 1\n",
    "\n",
    "    return np.array(X), np.array(y)\n"
   ]
  },
  {
   "cell_type": "markdown",
   "metadata": {
    "id": "SsY--04fWens"
   },
   "source": [
    "Now let’s create a Baseline Metrics or else we may end up thinking our model works great when in fact it is doing worse than basic models. The simplest approach is to assume that predicted value is the last value of the sequence. This is called naive forecasting, and it is sometimes surprisingly difficult to outperform."
   ]
  },
  {
   "cell_type": "code",
   "execution_count": 7,
   "metadata": {
    "id": "GNCi1VIwhxBi"
   },
   "outputs": [],
   "source": [
    "# Build the model\n",
    "\n",
    "# Define parameters\n",
    "n_epochs, n_batch = 200, 48\n",
    "\n",
    "# Prepare training data\n",
    "train_X, train_y = to_supervised(train, n_input=24)\n",
    "val_X, val_y = to_supervised(val, n_input =24)\n",
    "\n",
    "# Define the input parameters\n",
    "tf.random.set_seed(7)\n",
    "np.random.seed(7)\n",
    "n_input, n_features, n_outputs = train_X.shape[1], train_X.shape[2], train_y.shape[1]\n",
    "\n",
    "# Define the model\n",
    "model = Sequential()\n",
    "model.add(LSTM(200, return_sequences=False, activation='relu', input_shape=(n_input, n_features)))\n",
    "model.add(Dropout(0.1))\n",
    "model.add(Dense(100, activation='relu'))\n",
    "model.add(Dropout(0.1))\n",
    "model.add(Dense(50, activation='relu'))\n",
    "model.add(Dropout(0.1))\n",
    "model.add(Dense(n_outputs))\n",
    "\n",
    "# Compile the model\n",
    "model.compile(loss = 'mse' , optimizer= Adam(learning_rate = 0.0005))\n",
    "\n",
    "es_callback = callbacks.EarlyStopping(monitor=\"val_loss\", min_delta=1e-4,\n",
    "              patience=50, restore_best_weights=True)\n"
   ]
  },
  {
   "cell_type": "code",
   "execution_count": 8,
   "metadata": {
    "colab": {
     "base_uri": "https://localhost:8080/"
    },
    "id": "D1UHF5MnrjK0",
    "outputId": "3bf75a3e-448b-44a5-cc1a-e60e95e77240"
   },
   "outputs": [
    {
     "name": "stdout",
     "output_type": "stream",
     "text": [
      "(26280, 24, 22) (26280, 1)\n"
     ]
    }
   ],
   "source": [
    "print(train_X.shape, train_y.shape)"
   ]
  },
  {
   "cell_type": "code",
   "execution_count": 9,
   "metadata": {
    "colab": {
     "base_uri": "https://localhost:8080/"
    },
    "id": "PJpiC2Vwx88c",
    "outputId": "474e3bfd-9bea-4406-d204-abb17128352c"
   },
   "outputs": [
    {
     "name": "stdout",
     "output_type": "stream",
     "text": [
      "Model: \"sequential\"\n",
      "_________________________________________________________________\n",
      " Layer (type)                Output Shape              Param #   \n",
      "=================================================================\n",
      " lstm (LSTM)                 (None, 200)               178400    \n",
      "                                                                 \n",
      " dropout (Dropout)           (None, 200)               0         \n",
      "                                                                 \n",
      " dense (Dense)               (None, 100)               20100     \n",
      "                                                                 \n",
      " dropout_1 (Dropout)         (None, 100)               0         \n",
      "                                                                 \n",
      " dense_1 (Dense)             (None, 50)                5050      \n",
      "                                                                 \n",
      " dropout_2 (Dropout)         (None, 50)                0         \n",
      "                                                                 \n",
      " dense_2 (Dense)             (None, 1)                 51        \n",
      "                                                                 \n",
      "=================================================================\n",
      "Total params: 203601 (795.32 KB)\n",
      "Trainable params: 203601 (795.32 KB)\n",
      "Non-trainable params: 0 (0.00 Byte)\n",
      "_________________________________________________________________\n",
      "None\n"
     ]
    }
   ],
   "source": [
    "print(model.summary())"
   ]
  },
  {
   "cell_type": "code",
   "execution_count": 10,
   "metadata": {
    "colab": {
     "base_uri": "https://localhost:8080/",
     "height": 865
    },
    "id": "FiYuJKFgxijK",
    "outputId": "90d418c5-2477-46dd-9de3-27279c440c93"
   },
   "outputs": [
    {
     "data": {
      "image/png": "[encoded data removed]",
      "text/plain": [
       "<IPython.core.display.Image object>"
      ]
     },
     "execution_count": 10,
     "metadata": {},
     "output_type": "execute_result"
    }
   ],
   "source": [
    "plot_model(model, to_file=\"LSTM_model.png\", show_shapes=True, show_layer_names=True)"
   ]
  },
  {
   "cell_type": "code",
   "execution_count": 11,
   "metadata": {
    "colab": {
     "base_uri": "https://localhost:8080/"
    },
    "id": "_ZKRjRm5yCdn",
    "outputId": "d192475c-2537-4a47-be3e-df1e6377dcd4"
   },
   "outputs": [
    {
     "name": "stdout",
     "output_type": "stream",
     "text": [
      "Epoch 1/200\n",
      "548/548 [==============================] - 33s 58ms/step - loss: 0.0016 - val_loss: 5.6768e-04\n",
      "Epoch 2/200\n",
      "548/548 [==============================] - 32s 58ms/step - loss: 8.4391e-04 - val_loss: 4.3679e-04\n",
      "Epoch 3/200\n",
      "548/548 [==============================] - 32s 58ms/step - loss: 7.2159e-04 - val_loss: 3.9429e-04\n",
      "Epoch 4/200\n",
      "548/548 [==============================] - 32s 58ms/step - loss: 6.2523e-04 - val_loss: 3.5449e-04\n",
      "Epoch 5/200\n",
      "548/548 [==============================] - 31s 56ms/step - loss: 5.8259e-04 - val_loss: 3.3226e-04\n",
      "Epoch 6/200\n",
      "548/548 [==============================] - 31s 56ms/step - loss: 5.5482e-04 - val_loss: 3.5542e-04\n",
      "Epoch 7/200\n",
      "548/548 [==============================] - 32s 58ms/step - loss: 5.4170e-04 - val_loss: 2.8261e-04\n",
      "Epoch 8/200\n",
      "548/548 [==============================] - 31s 57ms/step - loss: 5.1619e-04 - val_loss: 2.5312e-04\n",
      "Epoch 9/200\n",
      "548/548 [==============================] - 31s 57ms/step - loss: 4.9840e-04 - val_loss: 3.0797e-04\n",
      "Epoch 10/200\n",
      "548/548 [==============================] - 31s 57ms/step - loss: 4.9675e-04 - val_loss: 2.4738e-04\n",
      "Epoch 11/200\n",
      "548/548 [==============================] - 31s 57ms/step - loss: 4.8964e-04 - val_loss: 2.4900e-04\n",
      "Epoch 12/200\n",
      "548/548 [==============================] - 33s 60ms/step - loss: 4.7086e-04 - val_loss: 2.5623e-04\n",
      "Epoch 13/200\n",
      "548/548 [==============================] - 31s 56ms/step - loss: 4.7398e-04 - val_loss: 2.5209e-04\n",
      "Epoch 14/200\n",
      "548/548 [==============================] - 31s 57ms/step - loss: 4.7177e-04 - val_loss: 2.3554e-04\n",
      "Epoch 15/200\n",
      "548/548 [==============================] - 31s 56ms/step - loss: 4.4422e-04 - val_loss: 2.5636e-04\n",
      "Epoch 16/200\n",
      "548/548 [==============================] - 31s 56ms/step - loss: 4.5124e-04 - val_loss: 2.8215e-04\n",
      "Epoch 17/200\n",
      "548/548 [==============================] - 33s 60ms/step - loss: 4.3405e-04 - val_loss: 2.5857e-04\n",
      "Epoch 18/200\n",
      "548/548 [==============================] - 31s 56ms/step - loss: 4.4647e-04 - val_loss: 2.5456e-04\n",
      "Epoch 19/200\n",
      "548/548 [==============================] - 31s 57ms/step - loss: 4.3543e-04 - val_loss: 2.4962e-04\n",
      "Epoch 20/200\n",
      "548/548 [==============================] - 32s 58ms/step - loss: 4.3370e-04 - val_loss: 2.3399e-04\n",
      "Epoch 21/200\n",
      "548/548 [==============================] - 32s 59ms/step - loss: 4.2498e-04 - val_loss: 2.5323e-04\n",
      "Epoch 22/200\n",
      "548/548 [==============================] - 33s 59ms/step - loss: 4.2300e-04 - val_loss: 2.7205e-04\n",
      "Epoch 23/200\n",
      "548/548 [==============================] - 32s 58ms/step - loss: 4.0934e-04 - val_loss: 2.4376e-04\n",
      "Epoch 24/200\n",
      "548/548 [==============================] - 31s 57ms/step - loss: 4.0971e-04 - val_loss: 2.5317e-04\n",
      "Epoch 25/200\n",
      "548/548 [==============================] - 32s 58ms/step - loss: 4.1488e-04 - val_loss: 2.7368e-04\n",
      "Epoch 26/200\n",
      "548/548 [==============================] - 33s 60ms/step - loss: 4.1809e-04 - val_loss: 2.2318e-04\n",
      "Epoch 27/200\n",
      "548/548 [==============================] - 31s 57ms/step - loss: 4.0518e-04 - val_loss: 2.2051e-04\n",
      "Epoch 28/200\n",
      "548/548 [==============================] - 31s 57ms/step - loss: 3.9388e-04 - val_loss: 2.4134e-04\n",
      "Epoch 29/200\n",
      "548/548 [==============================] - 31s 57ms/step - loss: 3.8734e-04 - val_loss: 2.2623e-04\n",
      "Epoch 30/200\n",
      "548/548 [==============================] - 33s 61ms/step - loss: 3.8977e-04 - val_loss: 2.4159e-04\n",
      "Epoch 31/200\n",
      "548/548 [==============================] - 32s 58ms/step - loss: 4.0132e-04 - val_loss: 2.4671e-04\n",
      "Epoch 32/200\n",
      "548/548 [==============================] - 32s 58ms/step - loss: 3.7748e-04 - val_loss: 2.3384e-04\n",
      "Epoch 33/200\n",
      "548/548 [==============================] - 32s 58ms/step - loss: 3.7490e-04 - val_loss: 2.6262e-04\n",
      "Epoch 34/200\n",
      "548/548 [==============================] - 34s 61ms/step - loss: 3.8247e-04 - val_loss: 2.2237e-04\n",
      "Epoch 35/200\n",
      "548/548 [==============================] - 32s 58ms/step - loss: 3.7143e-04 - val_loss: 2.8847e-04\n",
      "Epoch 36/200\n",
      "548/548 [==============================] - 32s 58ms/step - loss: 3.7027e-04 - val_loss: 2.3601e-04\n",
      "Epoch 37/200\n",
      "548/548 [==============================] - 32s 59ms/step - loss: 3.6993e-04 - val_loss: 2.2505e-04\n",
      "Epoch 38/200\n",
      "548/548 [==============================] - 33s 61ms/step - loss: 3.7687e-04 - val_loss: 2.9335e-04\n",
      "Epoch 39/200\n",
      "548/548 [==============================] - 32s 58ms/step - loss: 3.7557e-04 - val_loss: 2.5629e-04\n",
      "Epoch 40/200\n",
      "548/548 [==============================] - 33s 59ms/step - loss: 3.6878e-04 - val_loss: 2.2800e-04\n",
      "Epoch 41/200\n",
      "548/548 [==============================] - 34s 61ms/step - loss: 3.5838e-04 - val_loss: 2.2188e-04\n",
      "Epoch 42/200\n",
      "548/548 [==============================] - 32s 58ms/step - loss: 3.6379e-04 - val_loss: 2.5591e-04\n",
      "Epoch 43/200\n",
      "548/548 [==============================] - 32s 58ms/step - loss: 3.5220e-04 - val_loss: 2.5664e-04\n",
      "Epoch 44/200\n",
      "548/548 [==============================] - 33s 60ms/step - loss: 3.6138e-04 - val_loss: 2.7364e-04\n",
      "Epoch 45/200\n",
      "548/548 [==============================] - 33s 59ms/step - loss: 3.5388e-04 - val_loss: 2.3572e-04\n",
      "Epoch 46/200\n",
      "548/548 [==============================] - 32s 58ms/step - loss: 3.6044e-04 - val_loss: 2.6632e-04\n",
      "Epoch 47/200\n",
      "548/548 [==============================] - 32s 58ms/step - loss: 3.4408e-04 - val_loss: 2.3685e-04\n",
      "Epoch 48/200\n",
      "548/548 [==============================] - 32s 59ms/step - loss: 3.5100e-04 - val_loss: 2.4133e-04\n",
      "Epoch 49/200\n",
      "548/548 [==============================] - 33s 60ms/step - loss: 3.4099e-04 - val_loss: 2.4845e-04\n",
      "Epoch 50/200\n",
      "548/548 [==============================] - 32s 58ms/step - loss: 3.4557e-04 - val_loss: 2.3571e-04\n",
      "Epoch 51/200\n",
      "548/548 [==============================] - 32s 58ms/step - loss: 3.3967e-04 - val_loss: 2.7269e-04\n",
      "Epoch 52/200\n",
      "548/548 [==============================] - 32s 59ms/step - loss: 3.2903e-04 - val_loss: 2.6714e-04\n",
      "Epoch 53/200\n",
      "548/548 [==============================] - 32s 59ms/step - loss: 3.4161e-04 - val_loss: 2.5794e-04\n",
      "Epoch 54/200\n",
      "548/548 [==============================] - 31s 57ms/step - loss: 3.4589e-04 - val_loss: 2.4916e-04\n",
      "Epoch 55/200\n",
      "548/548 [==============================] - 32s 58ms/step - loss: 3.3834e-04 - val_loss: 2.7154e-04\n",
      "Epoch 56/200\n",
      "548/548 [==============================] - 32s 58ms/step - loss: 3.3237e-04 - val_loss: 2.4847e-04\n",
      "Epoch 57/200\n",
      "548/548 [==============================] - 33s 60ms/step - loss: 3.3066e-04 - val_loss: 2.8286e-04\n",
      "Epoch 58/200\n",
      "548/548 [==============================] - 32s 58ms/step - loss: 3.3255e-04 - val_loss: 2.2709e-04\n",
      "Epoch 59/200\n",
      "548/548 [==============================] - 32s 58ms/step - loss: 3.2414e-04 - val_loss: 2.4397e-04\n",
      "Epoch 60/200\n",
      "548/548 [==============================] - 31s 57ms/step - loss: 3.3218e-04 - val_loss: 2.7714e-04\n",
      "Epoch 61/200\n",
      "548/548 [==============================] - 33s 61ms/step - loss: 3.2804e-04 - val_loss: 2.6459e-04\n",
      "Epoch 62/200\n",
      "548/548 [==============================] - 31s 57ms/step - loss: 3.2108e-04 - val_loss: 2.3505e-04\n",
      "Epoch 63/200\n",
      "548/548 [==============================] - 31s 57ms/step - loss: 3.2023e-04 - val_loss: 2.9036e-04\n",
      "Epoch 64/200\n",
      "548/548 [==============================] - 31s 57ms/step - loss: 3.2052e-04 - val_loss: 2.4019e-04\n",
      "Epoch 65/200\n",
      "548/548 [==============================] - 35s 64ms/step - loss: 3.1619e-04 - val_loss: 2.5755e-04\n",
      "Epoch 66/200\n",
      "548/548 [==============================] - 31s 57ms/step - loss: 3.0799e-04 - val_loss: 2.2016e-04\n",
      "Epoch 67/200\n",
      "548/548 [==============================] - 31s 57ms/step - loss: 3.1047e-04 - val_loss: 2.4348e-04\n",
      "Epoch 68/200\n",
      "548/548 [==============================] - 31s 57ms/step - loss: 3.0931e-04 - val_loss: 2.5526e-04\n",
      "Epoch 69/200\n",
      "548/548 [==============================] - 33s 61ms/step - loss: 3.0739e-04 - val_loss: 2.4786e-04\n",
      "Epoch 70/200\n",
      "548/548 [==============================] - 32s 58ms/step - loss: 3.0738e-04 - val_loss: 2.3227e-04\n",
      "Epoch 71/200\n",
      "548/548 [==============================] - 32s 58ms/step - loss: 3.0441e-04 - val_loss: 2.5013e-04\n",
      "Epoch 72/200\n",
      "548/548 [==============================] - 31s 57ms/step - loss: 2.9531e-04 - val_loss: 2.6700e-04\n",
      "Epoch 73/200\n",
      "548/548 [==============================] - 33s 61ms/step - loss: 3.0178e-04 - val_loss: 2.5755e-04\n",
      "Epoch 74/200\n",
      "548/548 [==============================] - 32s 58ms/step - loss: 3.0916e-04 - val_loss: 2.7221e-04\n",
      "Epoch 75/200\n",
      "548/548 [==============================] - 32s 58ms/step - loss: 3.0361e-04 - val_loss: 2.6756e-04\n",
      "Epoch 76/200\n",
      "548/548 [==============================] - 32s 58ms/step - loss: 3.0525e-04 - val_loss: 2.6534e-04\n"
     ]
    }
   ],
   "source": [
    "# Train the model\n",
    "history = model.fit(train_X, train_y, epochs=n_epochs, batch_size=n_batch, verbose=1, validation_data = (val_X,val_y),callbacks=[es_callback])"
   ]
  },
  {
   "cell_type": "code",
   "execution_count": 12,
   "metadata": {
    "colab": {
     "base_uri": "https://localhost:8080/"
    },
    "id": "8qAAUTp2-2n3",
    "outputId": "1568246b-186e-41de-b4b7-59adb0ecb0b1"
   },
   "outputs": [
    {
     "name": "stderr",
     "output_type": "stream",
     "text": [
      "/usr/local/lib/python3.10/dist-packages/keras/src/engine/training.py:3103: UserWarning: You are saving your model as an HDF5 file via `model.save()`. This file format is considered legacy. We recommend using instead the native Keras format, e.g. `model.save('my_model.keras')`.\n",
      "  saving_api.save_model(\n"
     ]
    }
   ],
   "source": [
    "np.save(\"history_LSTM48.npy\", history.history)\n",
    "model.save('LSTM48.h5')"
   ]
  },
  {
   "cell_type": "code",
   "execution_count": 13,
   "metadata": {
    "colab": {
     "base_uri": "https://localhost:8080/",
     "height": 472
    },
    "id": "kXEJsO_Malgs",
    "outputId": "50d45b72-daf2-4417-e19f-883e76c8de98"
   },
   "outputs": [
    {
     "data": {
      "image/png": "[encoded data removed]",
      "text/plain": [
       "<Figure size 640x480 with 1 Axes>"
      ]
     },
     "metadata": {},
     "output_type": "display_data"
    }
   ],
   "source": [
    "plt.plot(history.history['loss'], label='train')  # plotting train loss\n",
    "plt.plot(history.history['val_loss'], label='val')  # plotting validation loss\n",
    "\n",
    "plt.title('model loss')\n",
    "plt.ylabel('loss')\n",
    "plt.xlabel('epoch')\n",
    "plt.legend(['train', 'val'], loc='upper left')\n",
    "plt.show()"
   ]
  },
  {
   "cell_type": "code",
   "execution_count": 14,
   "metadata": {
    "colab": {
     "base_uri": "https://localhost:8080/"
    },
    "id": "IjNO56ow25J7",
    "outputId": "06230617-7ebc-4cfe-b4b7-e386ba283cf8"
   },
   "outputs": [
    {
     "name": "stdout",
     "output_type": "stream",
     "text": [
      "109/109 [==============================] - 2s 15ms/step\n",
      "LSTM Test RMSE: 18.090\n",
      "Test MAE: 10.449\n",
      "Test R2: 0.971\n"
     ]
    }
   ],
   "source": [
    "# shape input for model\n",
    "test_X, test_y = to_supervised(test, n_input =24)\n",
    "\n",
    "# make forecast\n",
    "yhat = model.predict(test_X)\n",
    "\n",
    "# actual observation\n",
    "test_y = test_y.reshape(-1,1)\n",
    "\n",
    "# reshape input for inverse transform\n",
    "input_X = test_X.reshape((test_X.shape[0], test_X.shape[1]*test_X.shape[2]))\n",
    "\n",
    "# invert scaling for actual\n",
    "inv_test_y = concatenate((test_y, input_X[:, -21:]), axis=1)\n",
    "inv_test_y = scaler.inverse_transform(inv_test_y)\n",
    "inv_test_y= inv_test_y[:, 0]\n",
    "\n",
    "# invert scaling for predictions\n",
    "inv_yhat = concatenate((yhat, input_X[:, -21:]), axis=1)\n",
    "inv_yhat = scaler.inverse_transform(inv_yhat)\n",
    "inv_yhat = inv_yhat[:, 0]\n",
    "\n",
    "# estimate prediction error\n",
    "rmse = sqrt(mean_squared_error(inv_test_y,inv_yhat))\n",
    "print('LSTM Test RMSE: %.3f' % rmse)\n",
    "\n",
    "mae = mean_absolute_error(inv_test_y, inv_yhat)\n",
    "print('Test MAE: %.3f' % mae)\n",
    "\n",
    "R2=r2_score(inv_test_y, inv_yhat)\n",
    "print('Test R2: %.3f' % R2)"
   ]
  },
  {
   "cell_type": "code",
   "execution_count": 14,
   "metadata": {
    "id": "N0EQLbXSHGf3"
   },
   "outputs": [],
   "source": []
  }
 ],
 "metadata": {
  "colab": {
   "provenance": []
  },
  "kernelspec": {
   "display_name": "Python 3",
   "language": "python",
   "name": "python3"
  },
  "language_info": {
   "codemirror_mode": {
    "name": "ipython",
    "version": 3
   },
   "file_extension": ".py",
   "mimetype": "text/x-python",
   "name": "python",
   "nbconvert_exporter": "python",
   "pygments_lexer": "ipython3",
   "version": "3.6.8"
  },
  "toc": {
   "base_numbering": 1,
   "nav_menu": {},
   "number_sections": true,
   "sideBar": true,
   "skip_h1_title": false,
   "title_cell": "Table of Contents",
   "title_sidebar": "Contents",
   "toc_cell": false,
   "toc_position": {},
   "toc_section_display": true,
   "toc_window_display": false
  }
 },
 "nbformat": 4,
 "nbformat_minor": 1
}
